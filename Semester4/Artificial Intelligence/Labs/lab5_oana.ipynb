{
 "cells": [
  {
   "cell_type": "markdown",
   "id": "b8210b19",
   "metadata": {},
   "source": [
    "## A.I. Assignment 5\n",
    "\n",
    "## Learning Goals\n",
    "\n",
    "By the end of this lab, you should be able to:\n",
    "* Get more familiar with tensors in pytorch \n",
    "* Create a simple multilayer perceptron model with pytorch\n",
    "* Visualise the parameters\n",
    "\n",
    "\n",
    "### Task\n",
    "\n",
    "Build a fully connected feed forward network that adds two bits. Determine the a propper achitecture for this network (what database you use for this problem? how many layers? how many neurons on each layer? what is the activation function? what is the loss function? etc)\n",
    "\n",
    "Create at least 3 such networks and compare their performance (how accurate they are?, how farst they are trained to get at 1 accuracy?)\n",
    "\n",
    "Display for the best one the weights for each layer.\n"
   ]
  },
  {
   "cell_type": "code",
   "execution_count": 53,
   "id": "e3614e5f",
   "metadata": {},
   "outputs": [],
   "source": [
    "import torch\n",
    "import torch.nn as nn\n",
    "from collections import OrderedDict\n"
   ]
  },
  {
   "cell_type": "code",
   "execution_count": 54,
   "id": "5ee7e7d7",
   "metadata": {},
   "outputs": [],
   "source": [
    "# your code here\n",
    "#model1 = nn.Sequential(OrderedDict([\n",
    "#    ('hidden', nn.\n",
    "#]))\n",
    "\n",
    "model = nn.Sequential(OrderedDict([\n",
    "    ('inputLayer', nn.Linear(2,10)),\n",
    "    ('activation1', nn.ReLU()),\n",
    "    ('hiddenLayer', nn.Linear(10,5)),\n",
    "    ('activation2', nn.ReLU()),\n",
    "    ('outputLayer', nn.Linear(5,2)),\n",
    "]))"
   ]
  },
  {
   "cell_type": "code",
   "execution_count": 55,
   "id": "665ae958",
   "metadata": {},
   "outputs": [
    {
     "name": "stdout",
     "output_type": "stream",
     "text": [
      "Sequential(\n",
      "  (inputLayer): Linear(in_features=2, out_features=10, bias=True)\n",
      "  (activation1): ReLU()\n",
      "  (hiddenLayer): Linear(in_features=10, out_features=5, bias=True)\n",
      "  (activation2): ReLU()\n",
      "  (outputLayer): Linear(in_features=5, out_features=2, bias=True)\n",
      ")\n"
     ]
    }
   ],
   "source": [
    "print(model)"
   ]
  },
  {
   "cell_type": "code",
   "execution_count": 56,
   "id": "e26f0d3e",
   "metadata": {},
   "outputs": [
    {
     "name": "stdout",
     "output_type": "stream",
     "text": [
      "tensor([[0., 0.],\n",
      "        [0., 1.],\n",
      "        [1., 0.],\n",
      "        [1., 1.]])\n"
     ]
    }
   ],
   "source": [
    "# your code here\n",
    "#data_in = torch.tensor( ...\n",
    "#input data = [0,0], [0,1], [1,0], [1,1], the two bits\n",
    "\n",
    "data_in = torch.tensor([[0.,0.], [0.,1.], [1.,0.], [1.,1.]])\n",
    "print(data_in)"
   ]
  },
  {
   "cell_type": "code",
   "execution_count": 57,
   "id": "4fb16bbc",
   "metadata": {},
   "outputs": [
    {
     "name": "stdout",
     "output_type": "stream",
     "text": [
      "tensor([[0., 0.],\n",
      "        [0., 1.],\n",
      "        [0., 1.],\n",
      "        [1., 0.]])\n"
     ]
    }
   ],
   "source": [
    "# your code here\n",
    "# data_target = torch.tensor( ...\n",
    "#output data = [0,0], [0,1], [0,1], [1,0], the carry flag and the result\n",
    "data_target = torch.tensor([[0.,0.], [0.,1.], [0.,1.], [1.,0.]])\n",
    "print(data_target)"
   ]
  },
  {
   "cell_type": "code",
   "execution_count": 58,
   "id": "69d920ed",
   "metadata": {},
   "outputs": [],
   "source": [
    "# your code here\n",
    "# criterion = nn.CrossEntropyLoss(); used for classification (loss function)\n",
    "# optimizer = torch.optim.SGD(): Stochastic gradient descent it's what i know\n",
    "criterion = nn.MSELoss()\n",
    "optimizer = torch.optim.SGD(model.parameters(), lr=0.1)"
   ]
  },
  {
   "cell_type": "code",
   "execution_count": 59,
   "id": "cde91f6f",
   "metadata": {},
   "outputs": [
    {
     "name": "stdout",
     "output_type": "stream",
     "text": [
      "[0/500], Loss: 0.5843\n",
      "[100/500], Loss: 0.0875\n",
      "[200/500], Loss: 0.0204\n",
      "[300/500], Loss: 0.0022\n",
      "[400/500], Loss: 0.0001\n"
     ]
    }
   ],
   "source": [
    "# your code here\n",
    "# Train the model\n",
    "number_of_epochs = 500\n",
    "for i in range(number_of_epochs):\n",
    "    prediction = model(data_in)\n",
    "    loss = criterion(prediction, data_target)\n",
    "    optimizer.zero_grad()\n",
    "    loss.backward()\n",
    "    optimizer.step()\n",
    "    if i % 100 == 0:\n",
    "        print(f'[{i}/{number_of_epochs}], Loss: {loss.item():.4f}')"
   ]
  },
  {
   "cell_type": "code",
   "execution_count": 60,
   "id": "dff3ec1a",
   "metadata": {},
   "outputs": [
    {
     "name": "stdout",
     "output_type": "stream",
     "text": [
      "[[-6.6362554e-03  2.0950064e-03]\n",
      " [ 3.6141239e-03  9.9844468e-01]\n",
      " [ 6.8125501e-04  9.9966323e-01]\n",
      " [ 9.9934024e-01  5.3899735e-04]]\n",
      "accuracy=1.0\n"
     ]
    },
    {
     "data": {
      "image/png": "[encoded data removed]",
      "text/plain": [
       "<Figure size 640x480 with 1 Axes>"
      ]
     },
     "metadata": {},
     "output_type": "display_data"
    }
   ],
   "source": [
    "# your code here\n",
    "# visualize the results\n",
    "import matplotlib.pyplot as plt\n",
    "\n",
    "prediction = model(data_in)\n",
    "prediction_array = prediction.detach().numpy()\n",
    "print(prediction_array)\n",
    "\n",
    "plt.xlim(-0.5, 1.5)\n",
    "plt.ylim(-0.5, 1.5)\n",
    "\n",
    "#first point which should be (0,0)\n",
    "p1x= round(prediction_array[0][0])\n",
    "p1y=round(prediction_array[0][1])\n",
    "plt.plot(0, 0, marker=\"o\", markersize=10, markeredgecolor=\"red\", markerfacecolor=\"red\")\n",
    "plt.plot(p1x, p1y, marker=\"o\", markersize=5, markeredgecolor=\"blue\", markerfacecolor=\"blue\")\n",
    "\n",
    "\n",
    "#second point which should be (0,1)\n",
    "p2x= round(prediction_array[1][0])\n",
    "p2y= round(prediction_array[1][1])\n",
    "plt.plot(0, 1, marker=\"o\", markersize=10, markeredgecolor=\"red\", markerfacecolor=\"red\")\n",
    "plt.plot(p2x, p2y, marker=\"o\", markersize=5, markeredgecolor=\"blue\", markerfacecolor=\"blue\")\n",
    "\n",
    "\n",
    "#third point which should be (0,1)\n",
    "p3x= round(prediction_array[2][0])\n",
    "p3y= round(prediction_array[2][1])\n",
    "plt.plot(0, 1, marker=\"o\", markersize=10, markeredgecolor=\"red\", markerfacecolor=\"red\")\n",
    "plt.plot(p3x, p3y, marker=\"o\", markersize=5, markeredgecolor=\"blue\", markerfacecolor=\"blue\")\n",
    "\n",
    "#fourth point which should be (1,0)\n",
    "p4x= round(prediction_array[3][0])\n",
    "p4y= round(prediction_array[3][1])\n",
    "plt.plot(1, 0, marker=\"o\", markersize=10, markeredgecolor=\"red\", markerfacecolor=\"red\")\n",
    "plt.plot(p4x, p4y, marker=\"o\", markersize=5, markeredgecolor=\"blue\", markerfacecolor=\"blue\")\n",
    "\n",
    "accuracy = ((p1x==0 and p1y==0) + (p2x==0 and p2y==1)+ (p3x==0 and p3y==1) + (p4x==1 and p4y==0))/4\n",
    "print(\"accuracy=\"+str(accuracy))"
   ]
  },
  {
   "cell_type": "code",
   "execution_count": 62,
   "id": "c1a7518b",
   "metadata": {},
   "outputs": [
    {
     "name": "stdout",
     "output_type": "stream",
     "text": [
      "inputLayer.weight---tensor([[-0.0234, -0.5851],\n",
      "        [-0.6591, -0.3676],\n",
      "        [ 0.8274, -0.7380],\n",
      "        [-0.1675,  0.8349],\n",
      "        [-0.1457, -0.4302],\n",
      "        [ 0.1983,  0.7342],\n",
      "        [ 0.8320,  0.7051],\n",
      "        [ 0.1887, -0.6946],\n",
      "        [ 0.4543, -0.2886],\n",
      "        [ 1.0995, -0.0776]])\n",
      "hiddenLayer.weight---tensor([[ 0.1648, -0.0027,  0.0876,  0.4414, -0.0423,  0.3136,  0.4435, -0.4732,\n",
      "         -0.0971, -0.2105],\n",
      "        [-0.2520, -0.1865,  0.3417, -0.3774,  0.0036, -0.2114,  0.2374,  0.1605,\n",
      "          0.2810,  0.1162],\n",
      "        [-0.0997,  0.1596, -0.4641,  0.0627,  0.1659,  0.0393,  0.3965, -0.1327,\n",
      "          0.0349,  0.8402],\n",
      "        [-0.0818, -0.0411,  0.1965,  0.1283, -0.2051, -0.3516, -0.0654,  0.0091,\n",
      "         -0.2009,  0.1761],\n",
      "        [ 0.0844, -0.0574,  0.4711, -0.4757,  0.2229, -0.2455, -0.0158,  0.1628,\n",
      "          0.3629,  0.5803]])\n",
      "outputLayer.weight---tensor([[ 0.0081,  0.1977,  0.8072, -0.4195, -0.4640],\n",
      "        [ 0.7898,  0.6353, -0.8189, -0.3113,  0.7442]])\n"
     ]
    }
   ],
   "source": [
    "# your code here\n",
    "# print model weights\n",
    "\n",
    "for name,parameter in model.named_parameters():\n",
    "    if (\"weight\" in name):\n",
    "        print(name + \"---\" + str(parameter.data))\n"
   ]
  },
  {
   "cell_type": "code",
   "execution_count": 64,
   "id": "4cdf09ba",
   "metadata": {},
   "outputs": [
    {
     "name": "stdout",
     "output_type": "stream",
     "text": [
      "tensor([[0., 0.],\n",
      "        [0., 1.],\n",
      "        [1., 0.],\n",
      "        [1., 1.]])\n",
      "tensor([[0., 0.],\n",
      "        [0., 1.],\n",
      "        [0., 1.],\n",
      "        [1., 0.]])\n",
      "[0/500], Loss: 0.6029\n",
      "[100/500], Loss: 0.3977\n",
      "[200/500], Loss: 0.3710\n",
      "[300/500], Loss: 0.3601\n",
      "[400/500], Loss: 0.3333\n",
      "[[ 0.00181226 -0.00351372]\n",
      " [ 0.0023751   0.11021772]\n",
      " [-0.00305128  1.0054468 ]\n",
      " [ 0.03130715  0.15038607]]\n",
      "accuracy=0.5\n",
      "inputLayer.weight---tensor([[-0.6819, -0.5834],\n",
      "        [-0.6604, -0.5953],\n",
      "        [ 0.5637, -0.3141],\n",
      "        [ 0.2010, -0.4387],\n",
      "        [ 0.1659, -0.7903]])\n",
      "hiddenLayer1.weight---tensor([[-0.0097, -0.3097,  0.4468,  0.0584,  0.0305],\n",
      "        [-0.0246,  0.0546,  0.4317,  0.3434, -0.3190],\n",
      "        [ 0.3465, -0.2114, -0.0787, -0.5237,  0.0306],\n",
      "        [-0.2518, -0.6777,  0.6344,  0.5983,  0.6582],\n",
      "        [ 0.3167,  0.4302, -0.4235, -0.3596, -0.0954],\n",
      "        [ 0.0256,  0.5241, -0.2871, -0.1261,  0.3208],\n",
      "        [ 0.1341, -0.5594,  0.2148,  0.5975,  0.4266],\n",
      "        [ 0.1573, -0.4281,  0.5289,  0.1306,  0.2073],\n",
      "        [-0.3329,  0.3370, -0.0928,  0.0923,  0.0619],\n",
      "        [-0.2119,  0.0547, -0.1107, -0.2875, -0.0554]])\n",
      "hiddenLayer2.weight---tensor([[-0.2961,  0.0357, -0.2908, -0.0688,  0.2980,  0.2960, -0.2384, -0.1794,\n",
      "         -0.2076, -0.1067],\n",
      "        [ 0.0519,  0.4223, -0.0592,  0.7227,  0.2466, -0.3390,  0.6142,  0.1218,\n",
      "          0.0675,  0.2521],\n",
      "        [-0.2373, -0.0405, -0.2584, -0.2421,  0.1533,  0.0319, -0.5912,  0.2249,\n",
      "          0.1021, -0.1325],\n",
      "        [ 0.2370,  0.2799, -0.1282, -0.1604, -0.2007, -0.0772, -0.2831, -0.0078,\n",
      "         -0.1359,  0.2715],\n",
      "        [-0.0320, -0.0484, -0.2307,  0.3067, -0.2078,  0.1731, -0.1734,  0.1162,\n",
      "         -0.1125, -0.2065]])\n",
      "outputLayer.weight---tensor([[ 0.1541,  0.1301,  0.3838,  0.2043, -0.3217],\n",
      "        [ 0.2265,  0.6693, -0.1902, -0.2830,  0.3774]])\n"
     ]
    },
    {
     "data": {
      "image/png": "[encoded data removed]",
      "text/plain": [
       "<Figure size 640x480 with 1 Axes>"
      ]
     },
     "metadata": {},
     "output_type": "display_data"
    }
   ],
   "source": [
    "#new one\n",
    "import torch\n",
    "import torch.nn as nn\n",
    "from collections import OrderedDict\n",
    "\n",
    "\n",
    "model = nn.Sequential(OrderedDict([\n",
    "    ('inputLayer', nn.Linear(2,5)),\n",
    "    ('activation1', nn.ReLU()),\n",
    "    ('hiddenLayer1', nn.Linear(5,10)),\n",
    "    ('activation2', nn.ReLU()),\n",
    "    ('hiddenLayer2', nn.Linear(10,5)),\n",
    "    ('activation3', nn.ReLU()),\n",
    "    ('outputLayer', nn.Linear(5,2)),\n",
    "]))\n",
    "\n",
    "#data_in = torch.tensor( ...\n",
    "#input data = [0,0], [0,1], [1,0], [1,1], the two bits\n",
    "\n",
    "data_in = torch.tensor([[0.,0.], [0.,1.], [1.,0.], [1.,1.]])\n",
    "print(data_in)\n",
    "\n",
    "#output data = [0,0], [0,1], [0,1], [1,0], the carry flag and the result\n",
    "data_target = torch.tensor([[0.,0.], [0.,1.], [0.,1.], [1.,0.]])\n",
    "print(data_target)\n",
    "\n",
    "# criterion \n",
    "# optimizer \n",
    "criterion = nn.L1Loss()\n",
    "optimizer = torch.optim.Adam(model.parameters(), lr=0.001)\n",
    "\n",
    "# Train the model\n",
    "number_of_epochs = 500\n",
    "for i in range(number_of_epochs):\n",
    "    prediction = model(data_in)\n",
    "    loss = criterion(prediction, data_target)\n",
    "    optimizer.zero_grad()\n",
    "    loss.backward()\n",
    "    optimizer.step()\n",
    "    if i % 100 == 0:\n",
    "        print(f'[{i}/{number_of_epochs}], Loss: {loss.item():.4f}')\n",
    "        \n",
    "# your code here\n",
    "# visualize the results\n",
    "import matplotlib.pyplot as plt\n",
    "\n",
    "prediction = model(data_in)\n",
    "prediction_array = prediction.detach().numpy()\n",
    "print(prediction_array)\n",
    "\n",
    "plt.xlim(-0.5, 1.5)\n",
    "plt.ylim(-0.5, 1.5)\n",
    "\n",
    "#first point which should be (0,0)\n",
    "p1x= round(prediction_array[0][0])\n",
    "p1y=round(prediction_array[0][1])\n",
    "plt.plot(0, 0, marker=\"o\", markersize=10, markeredgecolor=\"red\", markerfacecolor=\"red\")\n",
    "plt.plot(p1x, p1y, marker=\"o\", markersize=5, markeredgecolor=\"blue\", markerfacecolor=\"blue\")\n",
    "\n",
    "\n",
    "#second point which should be (0,1)\n",
    "p2x= round(prediction_array[1][0])\n",
    "p2y= round(prediction_array[1][1])\n",
    "plt.plot(0, 1, marker=\"o\", markersize=10, markeredgecolor=\"red\", markerfacecolor=\"red\")\n",
    "plt.plot(p2x, p2y, marker=\"o\", markersize=5, markeredgecolor=\"blue\", markerfacecolor=\"blue\")\n",
    "\n",
    "\n",
    "#third point which should be (0,1)\n",
    "p3x= round(prediction_array[2][0])\n",
    "p3y= round(prediction_array[2][1])\n",
    "plt.plot(0, 1, marker=\"o\", markersize=10, markeredgecolor=\"red\", markerfacecolor=\"red\")\n",
    "plt.plot(p3x, p3y, marker=\"o\", markersize=5, markeredgecolor=\"blue\", markerfacecolor=\"blue\")\n",
    "\n",
    "#fourth point which should be (1,0)\n",
    "p4x= round(prediction_array[3][0])\n",
    "p4y= round(prediction_array[3][1])\n",
    "plt.plot(1, 0, marker=\"o\", markersize=10, markeredgecolor=\"red\", markerfacecolor=\"red\")\n",
    "plt.plot(p4x, p4y, marker=\"o\", markersize=5, markeredgecolor=\"blue\", markerfacecolor=\"blue\")\n",
    "\n",
    "accuracy = ((p1x==0 and p1y==0) + (p2x==0 and p2y==1)+ (p3x==0 and p3y==1) + (p4x==1 and p4y==0))/4\n",
    "print(\"accuracy=\"+str(accuracy))\n",
    "\n",
    "for name,parameter in model.named_parameters():\n",
    "    if (\"weight\" in name):\n",
    "        print(name + \"---\" + str(parameter.data))"
   ]
  },
  {
   "cell_type": "code",
   "execution_count": 65,
   "id": "e29c65a2",
   "metadata": {},
   "outputs": [
    {
     "name": "stdout",
     "output_type": "stream",
     "text": [
      "tensor([[0., 0.],\n",
      "        [0., 1.],\n",
      "        [1., 0.],\n",
      "        [1., 1.]])\n",
      "tensor([[0., 0.],\n",
      "        [0., 1.],\n",
      "        [0., 1.],\n",
      "        [1., 0.]])\n",
      "[0/500], Loss: 0.5252\n",
      "[100/500], Loss: 0.1456\n",
      "[200/500], Loss: 0.0465\n",
      "[300/500], Loss: 0.0009\n",
      "[400/500], Loss: 0.0000\n",
      "[[-4.0230155e-04 -1.8519163e-04]\n",
      " [ 4.5055151e-04  1.0001452e+00]\n",
      " [ 8.6981058e-04  1.0003452e+00]\n",
      " [ 9.9927366e-01 -2.9575825e-04]]\n",
      "accuracy=1.0\n",
      "inputLayer.weight---tensor([[-0.7943, -0.7942],\n",
      "        [-0.6954,  0.4477],\n",
      "        [ 0.2704, -0.6329],\n",
      "        [ 0.3722,  1.0048],\n",
      "        [-0.2976,  0.3924]])\n",
      "hiddenLayer.weight---tensor([[ 0.7191, -0.4721, -0.0355,  0.3216,  0.0193],\n",
      "        [-0.7447,  0.2436,  0.1948, -0.2911,  0.1619],\n",
      "        [ 0.0681,  0.4058, -0.0633, -0.5172, -0.2686],\n",
      "        [-0.0708,  0.4062,  0.3961, -0.5541, -0.0969],\n",
      "        [-0.0461,  0.1355, -0.1998,  0.0265,  0.2251],\n",
      "        [ 0.4553, -0.1163, -0.4067,  0.0245, -0.2374],\n",
      "        [ 0.6728, -0.3805, -0.0020,  0.2334,  0.0022],\n",
      "        [-0.1193, -0.2672, -0.4245, -0.2356,  0.3064],\n",
      "        [ 0.1807, -0.0323,  0.3809,  0.2995, -0.1000],\n",
      "        [ 0.5067,  0.1130, -0.1432,  0.0446,  0.4317]])\n",
      "outputLayer.weight---tensor([[ 0.6015, -0.1909, -0.5397, -0.5133, -0.1929, -0.0946,  0.3292,  0.0278,\n",
      "          0.3919, -0.1763],\n",
      "        [-0.7314,  0.8455,  0.2920,  0.2171,  0.0410, -0.4629, -0.5696,  0.4122,\n",
      "         -0.0971, -0.4715]])\n"
     ]
    },
    {
     "data": {
      "image/png": "[encoded data removed]",
      "text/plain": [
       "<Figure size 640x480 with 1 Axes>"
      ]
     },
     "metadata": {},
     "output_type": "display_data"
    }
   ],
   "source": [
    "#another new one\n",
    "import torch\n",
    "import torch.nn as nn\n",
    "from collections import OrderedDict\n",
    "\n",
    "model = nn.Sequential(OrderedDict([\n",
    "    ('inputLayer', nn.Linear(2,5)),\n",
    "    ('activate1', nn.LeakyReLU()),\n",
    "    ('hiddenLayer', nn.Linear(5,10)),\n",
    "    ('activate1', nn.LeakyReLU()),\n",
    "    ('outputLayer', nn.Linear(10,2))\n",
    "]))\n",
    "\n",
    "#data_in = torch.tensor( ...\n",
    "#input data = [0,0], [0,1], [1,0], [1,1], the two bits\n",
    "\n",
    "data_in = torch.tensor([[0.,0.], [0.,1.], [1.,0.], [1.,1.]])\n",
    "print(data_in)\n",
    "\n",
    "#output data = [0,0], [0,1], [0,1], [1,0], the carry flag and the result\n",
    "data_target = torch.tensor([[0.,0.], [0.,1.], [0.,1.], [1.,0.]])\n",
    "print(data_target)\n",
    "\n",
    "# criterion \n",
    "# optimizer = torch.optim.SGD(): Stochastic gradient descent it's what i know\n",
    "criterion = nn.MSELoss()\n",
    "optimizer = torch.optim.SGD(model.parameters(), lr=0.1)\n",
    "\n",
    "# Train the model\n",
    "number_of_epochs = 500\n",
    "for i in range(number_of_epochs):\n",
    "    prediction = model(data_in)\n",
    "    loss = criterion(prediction, data_target)\n",
    "    optimizer.zero_grad()\n",
    "    loss.backward()\n",
    "    optimizer.step()\n",
    "    if i % 100 == 0:\n",
    "        print(f'[{i}/{number_of_epochs}], Loss: {loss.item():.4f}')\n",
    "        \n",
    "# your code here\n",
    "# visualize the results\n",
    "import matplotlib.pyplot as plt\n",
    "\n",
    "prediction = model(data_in)\n",
    "prediction_array = prediction.detach().numpy()\n",
    "print(prediction_array)\n",
    "\n",
    "plt.xlim(-0.5, 1.5)\n",
    "plt.ylim(-0.5, 1.5)\n",
    "\n",
    "#first point which should be (0,0)\n",
    "p1x= round(prediction_array[0][0])\n",
    "p1y=round(prediction_array[0][1])\n",
    "plt.plot(0, 0, marker=\"o\", markersize=10, markeredgecolor=\"red\", markerfacecolor=\"red\")\n",
    "plt.plot(p1x, p1y, marker=\"o\", markersize=5, markeredgecolor=\"blue\", markerfacecolor=\"blue\")\n",
    "\n",
    "\n",
    "#second point which should be (0,1)\n",
    "p2x= round(prediction_array[1][0])\n",
    "p2y= round(prediction_array[1][1])\n",
    "plt.plot(0, 1, marker=\"o\", markersize=10, markeredgecolor=\"red\", markerfacecolor=\"red\")\n",
    "plt.plot(p2x, p2y, marker=\"o\", markersize=5, markeredgecolor=\"blue\", markerfacecolor=\"blue\")\n",
    "\n",
    "\n",
    "#third point which should be (0,1)\n",
    "p3x= round(prediction_array[2][0])\n",
    "p3y= round(prediction_array[2][1])\n",
    "plt.plot(0, 1, marker=\"o\", markersize=10, markeredgecolor=\"red\", markerfacecolor=\"red\")\n",
    "plt.plot(p3x, p3y, marker=\"o\", markersize=5, markeredgecolor=\"blue\", markerfacecolor=\"blue\")\n",
    "\n",
    "#fourth point which should be (1,0)\n",
    "p4x= round(prediction_array[3][0])\n",
    "p4y= round(prediction_array[3][1])\n",
    "plt.plot(1, 0, marker=\"o\", markersize=10, markeredgecolor=\"red\", markerfacecolor=\"red\")\n",
    "plt.plot(p4x, p4y, marker=\"o\", markersize=5, markeredgecolor=\"blue\", markerfacecolor=\"blue\")\n",
    "\n",
    "accuracy = ((p1x==0 and p1y==0) + (p2x==0 and p2y==1)+ (p3x==0 and p3y==1) + (p4x==1 and p4y==0))/4\n",
    "print(\"accuracy=\"+str(accuracy))\n",
    "\n",
    "for name,parameter in model.named_parameters():\n",
    "    if (\"weight\" in name):\n",
    "        print(name + \"---\" + str(parameter.data))\n",
    "    "
   ]
  },
  {
   "cell_type": "code",
   "execution_count": null,
   "id": "e397ae5b",
   "metadata": {},
   "outputs": [],
   "source": []
  }
 ],
 "metadata": {
  "kernelspec": {
   "display_name": "Python 3 (ipykernel)",
   "language": "python",
   "name": "python3"
  },
  "language_info": {
   "codemirror_mode": {
    "name": "ipython",
    "version": 3
   },
   "file_extension": ".py",
   "mimetype": "text/x-python",
   "name": "python",
   "nbconvert_exporter": "python",
   "pygments_lexer": "ipython3",
   "version": "3.9.16"
  }
 },
 "nbformat": 4,
 "nbformat_minor": 5
}
