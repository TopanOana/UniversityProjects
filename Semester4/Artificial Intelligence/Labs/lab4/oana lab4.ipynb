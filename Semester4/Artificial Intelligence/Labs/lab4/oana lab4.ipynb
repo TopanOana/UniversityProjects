{
 "cells": [
  {
   "cell_type": "markdown",
   "id": "b246b6ac",
   "metadata": {},
   "source": [
    "## A.I. Assignment 4\n",
    "\n",
    "## Learning Goals\n",
    "\n",
    "By the end of this lab, you should be able to:\n",
    "* Get familiar with tensors in pytorch\n",
    "* Get familiar with the activation functions for ANN \n",
    "* Create a simple perceptron model with pytorch\n",
    "\n"
   ]
  },
  {
   "cell_type": "markdown",
   "id": "8247d8bb",
   "metadata": {},
   "source": [
    "## Common activation functions for ANN:\n",
    "\n",
    "##### Sigmoid:\n",
    "\n",
    "The sigmoid function is a popular choice for activation functions in neural networks. It has an $S-shaped$ curve:\n",
    "$$f(x) = \\frac{1}{1+e^{-x}}.$$\n",
    "\n",
    "It has a number of appealing qualities:\n",
    "\n",
    "1. *Nonlinearity*: Because the sigmoid function is nonlinear, it enables the neural network to simulate nonlinear interactions between inputs and outputs. A neural network would simply be a linear model without a nonlinear activation function like sigmoid, which would significantly restrict its capacity to describe complex relationships.\n",
    "\n",
    "1. *Smoothness*: As the sigmoid function is differentiable and smooth, its derivative exist at every point. This is significant because it makes it possible for neural network training techniques based on gradients (such as backpropagation) to perform well.\n",
    "\n",
    "1. *Boundedness*: The sigmoid function is bounded between 0 and 1, it means  its outputs can be interpreted as probabilities.  It is most useful in applications like binary classification, where the goal is to predict whether an input belongs to one of two classes.\n",
    "\n",
    "1. *Monotonicity*: The sigmoid function is monotonic, which means that its outputs are always increasing or always decreasing with respect to its inputs. This makes it easy to interpret the effect of changes in input variables on the output of the network.\n",
    "\n",
    "##### ReLU (Rectified Linear Unit):\n",
    "\n",
    "The ReLU function is defined as $$f(x) = max(0, x).$$\n",
    "\n",
    "It is a widely used activation function in deep learning due to its simplicity and effectiveness.\n",
    "\n",
    "##### Tanh (Hyperbolic Tangent):\n",
    "\n",
    "The $\\tanh$ function is similar to the sigmoid function but produces outputs in the interval $[-1, 1]$:  \n",
    "$$f(x) = \\frac{e^{x}-e^{-x}}{e^{x}+e^{-x}}.$$\n",
    "\n",
    "##### Softmax:\n",
    "\n",
    "The softmax function is commonly used in the output layer of a neural network for multi-class classification problems. It normalizes the output into a probability distribution over the classes.\n",
    "\n",
    "Given a vector $\\vec{z}$ of $n$ real numbers, the softmax function calculates a vector $\\vec{s}$ of $n$ real numbers with the components:\n",
    "$$s_j = \\frac{e^{z_j}}{\\sum_{k=1}^{n} {e^{z_k}}}.$$\n",
    "\n",
    "\n",
    "##### Leaky ReLU:\n",
    "\n",
    "The Leaky ReLU is a variation of the ReLU function that introduces a small non-zero gradient for negative inputs. It is defined as \n",
    "$$f(x) = max(0.01 \\cdot x, x).$$\n",
    "\n",
    "##### ELU (Exponential Linear Unit):\n",
    "\n",
    "The ELU function is another variation of the ReLU function that introduces a small negative saturation value for negative inputs. It is defined as \n",
    "\n",
    "$$ f(x) = \\biggl\\{ \\begin{matrix} x, & for & x > 0 \\\\\n",
    "                      \\alpha \\cdot (e^{x} - 1), & for & x \\leq 0 \\end{matrix}$$\n",
    "where $\\alpha$ is a hyperparameter.\n",
    "\n",
    "##### Swish:\n",
    "\n",
    "The Swish function is a recent activation function that is a smooth approximation of the ReLU function. It is defined as f(x) = x * sigmoid(x)."
   ]
  },
  {
   "cell_type": "code",
   "execution_count": 1,
   "id": "68931328",
   "metadata": {},
   "outputs": [
    {
     "data": {
      "text/plain": [
       "True"
      ]
     },
     "execution_count": 1,
     "metadata": {},
     "output_type": "execute_result"
    }
   ],
   "source": [
    "import torch\n",
    "torch.cuda.is_available()"
   ]
  },
  {
   "cell_type": "markdown",
   "id": "93017ce5",
   "metadata": {},
   "source": [
    "create a tensor with requires_grad=True to tell PyTorch to track gradients for this tensor:"
   ]
  },
  {
   "cell_type": "code",
   "execution_count": 5,
   "id": "a14b6a39",
   "metadata": {},
   "outputs": [
    {
     "name": "stdout",
     "output_type": "stream",
     "text": [
      "tensor([2.], requires_grad=True)\n"
     ]
    }
   ],
   "source": [
    "x = torch.tensor([2.0], requires_grad=True)\n",
    "print(x)"
   ]
  },
  {
   "cell_type": "markdown",
   "id": "56340210",
   "metadata": {},
   "source": [
    "You can perform any operations on this tensor as usual:"
   ]
  },
  {
   "cell_type": "code",
   "execution_count": 6,
   "id": "99cb5a71",
   "metadata": {},
   "outputs": [
    {
     "name": "stdout",
     "output_type": "stream",
     "text": [
      "tensor([9.], grad_fn=<AddBackward0>)\n"
     ]
    }
   ],
   "source": [
    "y = x ** 2 + 2 * x + 1\n",
    "print(y)"
   ]
  },
  {
   "cell_type": "markdown",
   "id": "af8a18dc",
   "metadata": {},
   "source": [
    "To compute the gradients of y with respect to x, you need to call backward() on y:"
   ]
  },
  {
   "cell_type": "code",
   "execution_count": 7,
   "id": "8c244acf",
   "metadata": {},
   "outputs": [],
   "source": [
    "y.backward(x)"
   ]
  },
  {
   "cell_type": "code",
   "execution_count": 8,
   "id": "0e9b7e33",
   "metadata": {},
   "outputs": [
    {
     "data": {
      "text/plain": [
       "tensor([12.])"
      ]
     },
     "execution_count": 8,
     "metadata": {},
     "output_type": "execute_result"
    }
   ],
   "source": [
    "x.grad"
   ]
  },
  {
   "cell_type": "code",
   "execution_count": 9,
   "id": "87ce525b",
   "metadata": {},
   "outputs": [
    {
     "name": "stdout",
     "output_type": "stream",
     "text": [
      "tensor([1., 1., 1.])\n"
     ]
    }
   ],
   "source": [
    "import torch\n",
    "\n",
    "# Create a tensor with requires_grad=True\n",
    "x = torch.tensor([1., 2., 3.], requires_grad=True)\n",
    "\n",
    "# Compute a function of x\n",
    "y = x.sum()\n",
    "\n",
    "# Compute gradients of y with respect to x\n",
    "y.backward()\n",
    "\n",
    "# Print gradients of x\n",
    "print(x.grad)\n"
   ]
  },
  {
   "cell_type": "markdown",
   "id": "30804b8c",
   "metadata": {},
   "source": [
    "Exercise 1.\n",
    "\n",
    "Compute the gradient for the sigmoid activation function in 2 points using pytorch and check it with the known explicit formula "
   ]
  },
  {
   "cell_type": "code",
   "execution_count": 1,
   "id": "2dc94902",
   "metadata": {},
   "outputs": [
    {
     "name": "stdout",
     "output_type": "stream",
     "text": [
      "tensor([0.5000], grad_fn=<SigmoidBackward0>)\n",
      "tensor([0.7311], grad_fn=<SigmoidBackward0>)\n",
      "tensor([0.2500])\n",
      "tensor([0.1966])\n",
      "0.25 0.19661193324148188\n"
     ]
    }
   ],
   "source": [
    "# your code here\n",
    "import torch\n",
    "import math\n",
    "import torch.nn as nn\n",
    "\n",
    "#create tensor for two points \n",
    "x1 = torch.tensor([0.0], requires_grad=True)\n",
    "x2 = torch.tensor([1.0], requires_grad=True)\n",
    "\n",
    "#compute the function y of x => sigmoid function\n",
    "y1 = x1.sigmoid()\n",
    "y2 = x2.sigmoid()\n",
    "\n",
    "print(y1)\n",
    "print(y2)\n",
    "\n",
    "\n",
    "#compute gradients of y with respect to x\n",
    "y1.backward()\n",
    "y2.backward()\n",
    "\n",
    "\n",
    "#print the gradients of x\n",
    "print(x1.grad)\n",
    "print(x2.grad)\n",
    "\n",
    "\n",
    "#the gradient of the sigmoid function is : e^(-x)/(1+e^(-x))^2 -> did it on paper\n",
    "\n",
    "def gradientSigmoid(x):\n",
    "    return math.exp(-x)/((1+math.exp(-x))**2)\n",
    "\n",
    "gradient1 = gradientSigmoid(0)\n",
    "gradient2 = gradientSigmoid(1)\n",
    "\n",
    "print(gradient1, gradient2)\n",
    "\n"
   ]
  },
  {
   "cell_type": "markdown",
   "id": "7e77a45c",
   "metadata": {},
   "source": [
    "Exercise 2.\n",
    "\n",
    "Compute the gradient for the linear activation function in 2 points using pytorch and check it with the known explicit formula"
   ]
  },
  {
   "cell_type": "code",
   "execution_count": 4,
   "id": "7054039e",
   "metadata": {},
   "outputs": [
    {
     "name": "stdout",
     "output_type": "stream",
     "text": [
      "tensor([1.])\n",
      "tensor([1.])\n",
      "1 1\n"
     ]
    }
   ],
   "source": [
    "# your code here\n",
    "import torch\n",
    "import math\n",
    "import torch.nn as nn\n",
    "\n",
    "#create tensor for two points \n",
    "x1 = torch.tensor([0.0], requires_grad=True)\n",
    "x2 = torch.tensor([1.0], requires_grad=True)\n",
    "\n",
    "#compute the function y of x => linear function\n",
    "y1 = x1\n",
    "y1.backward()\n",
    "\n",
    "y2 = x2\n",
    "y2.backward()\n",
    "\n",
    "\n",
    "\n",
    "#print the gradients of x\n",
    "print(x1.grad)\n",
    "print(x2.grad)\n",
    "\n",
    "def gradientLinear(x):\n",
    "    return 1\n",
    "\n",
    "\n",
    "\n",
    "gradient1 = gradientLinear(0)\n",
    "gradient2 = gradientLinear(1)\n",
    "\n",
    "print(gradient1, gradient2)\n",
    "\n"
   ]
  },
  {
   "cell_type": "markdown",
   "id": "dab117e3",
   "metadata": {},
   "source": [
    "Execise 3.\n",
    "\n",
    "Compute the gradient for the relu activation function in 2 points using pytorch and check it with the known explicit formula."
   ]
  },
  {
   "cell_type": "code",
   "execution_count": 5,
   "id": "1f69f4c5",
   "metadata": {},
   "outputs": [
    {
     "name": "stdout",
     "output_type": "stream",
     "text": [
      "tensor([0.], grad_fn=<ReluBackward0>)\n",
      "tensor([1.], grad_fn=<ReluBackward0>)\n",
      "tensor([0.])\n",
      "tensor([1.])\n",
      "0 1\n"
     ]
    }
   ],
   "source": [
    "# your code here\n",
    "import torch\n",
    "import math\n",
    "\n",
    "#create tensor for two points \n",
    "x1 = torch.tensor([0.0], requires_grad=True)\n",
    "x2 = torch.tensor([1.0], requires_grad=True)\n",
    "#compute the function y of x => ReLU function\n",
    "y1 = x1.relu()\n",
    "print(y1)\n",
    "y2 = x2.relu()\n",
    "print(y2)\n",
    "\n",
    "#compute gradients of y with respect to x\n",
    "y1.backward()\n",
    "y2.backward()\n",
    "\n",
    "\n",
    "#print the gradients of x\n",
    "print(x1.grad)\n",
    "print(x2.grad)\n",
    "\n",
    "\n",
    "#gradient  for ReLU: f(x) = 1, if x>0\n",
    "#                         = 0, otherwise\n",
    "def gradientReLU(x):\n",
    "    return 1 if x>0 else 0\n",
    "\n",
    "\n",
    "gradient1 = gradientReLU(0)\n",
    "gradient2 = gradientReLU(1)\n",
    "\n",
    "print (gradient1, gradient2)\n"
   ]
  },
  {
   "cell_type": "markdown",
   "id": "ef985f68",
   "metadata": {},
   "source": [
    "Exercise 4. \n",
    "\n",
    "Write in python a function to plot the sigmoid activation function and its gradient using matplotlib"
   ]
  },
  {
   "cell_type": "code",
   "execution_count": 18,
   "id": "6c645aaf",
   "metadata": {},
   "outputs": [
    {
     "name": "stdout",
     "output_type": "stream",
     "text": [
      "tensor([0.0474, 0.1192, 0.2689, 0.5000, 0.7311, 0.8808, 0.9526])\n"
     ]
    },
    {
     "data": {
      "image/png": "[encoded data removed]",
      "text/plain": [
       "<Figure size 640x480 with 1 Axes>"
      ]
     },
     "metadata": {},
     "output_type": "display_data"
    }
   ],
   "source": [
    "# your code here\n",
    "import matplotlib.pyplot as plt\n",
    "import torch\n",
    "import torch.nn as nn\n",
    "import numpy as np\n",
    "\n",
    "sigmoid = nn.Sigmoid()\n",
    "input = torch.Tensor([-3,-2,-1,0,1,2,3])\n",
    "output = sigmoid(input)\n",
    "print(output)\n",
    "plt.plot(input.numpy(),output.numpy(), color=\"blue\")\n",
    "\n",
    "def gradientSigmoid(x):\n",
    "    return math.exp(-x)/((1+math.exp(-x))**2)\n",
    "\n",
    "x = list(map(gradientSigmoid, input))\n",
    "\n",
    "\n",
    "plt.plot(input.numpy(),x, color=\"red\")\n",
    "plt.show()\n",
    "\n",
    "\n"
   ]
  },
  {
   "cell_type": "markdown",
   "id": "51202a51",
   "metadata": {},
   "source": [
    "Exercise 5. \n",
    "\n",
    "Write in python a function to plot the ReLU activation function and its gradient using matplotlib."
   ]
  },
  {
   "cell_type": "code",
   "execution_count": 7,
   "id": "99e49c47",
   "metadata": {},
   "outputs": [
    {
     "name": "stdout",
     "output_type": "stream",
     "text": [
      "tensor([0.0000e+00, 0.0000e+00, 0.0000e+00, 0.0000e+00, 1.0000e-04, 5.0000e-01,\n",
      "        1.0000e+00, 2.0000e+00, 3.0000e+00])\n",
      "[0, 0, 0, 0, 1, 1, 1, 1, 1]\n"
     ]
    },
    {
     "data": {
      "image/png": "[encoded data removed]",
      "text/plain": [
       "<Figure size 640x480 with 1 Axes>"
      ]
     },
     "metadata": {},
     "output_type": "display_data"
    }
   ],
   "source": [
    "# your code here\n",
    "import matplotlib.pyplot as plt\n",
    "import torch\n",
    "import torch.nn as nn\n",
    "import numpy as np\n",
    "\n",
    "ReLU = nn.ReLU()\n",
    "input = torch.Tensor([-3,-2,-1,0,0.0001,0.5,1,2,3])\n",
    "output = ReLU(input)\n",
    "print(output)\n",
    "plt.plot(input.numpy(),output.numpy(), color=\"blue\")\n",
    "\n",
    "def gradientReLU(x):\n",
    "    return 1 if x>0 else 0\n",
    "\n",
    "gradient = list(map(gradientReLU, input.numpy()))\n",
    "print(gradient)\n",
    "\n",
    "\n",
    "plt.plot(input, gradient, color=\"red\")\n",
    "\n",
    "plt.show()\n"
   ]
  },
  {
   "cell_type": "markdown",
   "id": "c81684ff",
   "metadata": {},
   "source": [
    "Exercise 6. \n",
    "\n",
    "Write in python a function to plot the tanh activation function and its gradient using matplotlib."
   ]
  },
  {
   "cell_type": "code",
   "execution_count": 8,
   "id": "559d421d",
   "metadata": {},
   "outputs": [
    {
     "name": "stdout",
     "output_type": "stream",
     "text": [
      "tensor([-9.9505e-01, -9.6403e-01, -7.6159e-01,  0.0000e+00,  1.0000e-04,\n",
      "         4.6212e-01,  7.6159e-01,  9.6403e-01,  9.9505e-01])\n",
      "[tensor(0.0099), tensor(0.0707), tensor(0.4200), tensor(1.), tensor(1.), tensor(0.7864), tensor(0.4200), tensor(0.0707), tensor(0.0099)]\n"
     ]
    },
    {
     "data": {
      "image/png": "[encoded data removed]",
      "text/plain": [
       "<Figure size 640x480 with 1 Axes>"
      ]
     },
     "metadata": {},
     "output_type": "display_data"
    }
   ],
   "source": [
    "# your code here\n",
    "import matplotlib.pyplot as plt\n",
    "import torch\n",
    "import torch.nn as nn\n",
    "import numpy as np\n",
    "\n",
    "Tanh = nn.Tanh()\n",
    "input = torch.Tensor([-3,-2,-1,0,0.0001,0.5,1,2,3])\n",
    "output = Tanh(input)\n",
    "print(output)\n",
    "plt.plot(input.numpy(),output.numpy(), color=\"blue\")\n",
    "\n",
    "def gradientTanh(x):\n",
    "    return 1 - Tanh(x)**2\n",
    "\n",
    "gradient = list(map(gradientTanh, input))\n",
    "print(gradient)\n",
    "\n",
    "\n",
    "plt.plot(input, gradient, color=\"red\")\n",
    "\n",
    "plt.show()\n"
   ]
  },
  {
   "cell_type": "markdown",
   "id": "6f382daf",
   "metadata": {},
   "source": [
    "Exercise 7. \n",
    "\n",
    "Write in python a function to plot the softmax activation function."
   ]
  },
  {
   "cell_type": "code",
   "execution_count": 9,
   "id": "0dd236a3",
   "metadata": {},
   "outputs": [
    {
     "name": "stdout",
     "output_type": "stream",
     "text": [
      "tensor([0.0016, 0.0043, 0.0116, 0.0315, 0.0856, 0.2328, 0.6327])\n"
     ]
    },
    {
     "data": {
      "image/png": "[encoded data removed]",
      "text/plain": [
       "<Figure size 640x480 with 1 Axes>"
      ]
     },
     "metadata": {},
     "output_type": "display_data"
    }
   ],
   "source": [
    "# your code here\n",
    "import matplotlib.pyplot as plt\n",
    "import torch\n",
    "import torch.nn as nn\n",
    "import numpy as np\n",
    "\n",
    "Softmax = nn.Softmax(dim=0)\n",
    "input = torch.Tensor([-3,-2,-1,0,1,2,3])\n",
    "output = Softmax(input)\n",
    "print(output)\n",
    "plt.plot(input.numpy(),output.numpy(), color=\"blue\")\n",
    "\n",
    "\n",
    "plt.show()\n"
   ]
  },
  {
   "cell_type": "markdown",
   "id": "8740a0a8",
   "metadata": {},
   "source": [
    "Exercise 8. \n",
    "\n",
    "Write in python a function to plot the leaky ReLU activation function and its gradient using matplotlib."
   ]
  },
  {
   "cell_type": "code",
   "execution_count": 19,
   "id": "7b455646",
   "metadata": {},
   "outputs": [
    {
     "name": "stdout",
     "output_type": "stream",
     "text": [
      "tensor([-3.0000e-02, -2.0000e-02, -1.0000e-02,  0.0000e+00,  1.0000e-04,\n",
      "         5.0000e-01,  1.0000e+00])\n",
      "[0.01, 0.01, 0.01, 0.01, 1, 1, 1]\n"
     ]
    },
    {
     "data": {
      "image/png": "[encoded data removed]",
      "text/plain": [
       "<Figure size 640x480 with 1 Axes>"
      ]
     },
     "metadata": {},
     "output_type": "display_data"
    }
   ],
   "source": [
    "# your code here\n",
    "\n",
    "import matplotlib.pyplot as plt\n",
    "import torch\n",
    "import torch.nn as nn\n",
    "import numpy as np\n",
    "\n",
    "LeakyReLU = nn.LeakyReLU(0.01)\n",
    "input = torch.Tensor([-3,-2,-1,0,0.0001,0.5,1])\n",
    "output = LeakyReLU(input)\n",
    "print(output)\n",
    "plt.plot(input.numpy(),output.numpy(), color=\"blue\")\n",
    "\n",
    "def gradientLeakyReLU(x):\n",
    "    return 1 if x>0 else 0.01\n",
    "\n",
    "gradient = list(map(gradientLeakyReLU, input))\n",
    "print(gradient)\n",
    "\n",
    "\n",
    "plt.plot(input, gradient, color=\"red\")\n",
    "\n",
    "plt.show()\n"
   ]
  },
  {
   "cell_type": "markdown",
   "id": "4e33119c",
   "metadata": {},
   "source": [
    "## Perceptron\n",
    "\n",
    "We define a class called *Perceptron* that inherits from *torch.nn.Module*. \n",
    "\n",
    "In the constructor, we define a single fully-connected linear layer with $input_dim$ inputs and $output_dim$ outputs, and a $sigmoid$ activation function. In the forward method, we apply the linear transformation to the input $x$, and then apply the sigmoid activation function to the output.\n",
    "\n"
   ]
  },
  {
   "cell_type": "code",
   "execution_count": 8,
   "id": "aa86d7c0",
   "metadata": {},
   "outputs": [],
   "source": [
    "import torch\n",
    "import torch.nn as nn\n",
    "\n",
    "input_size = 2\n",
    "output_size = 1\n",
    "\n",
    "class Perceptron(torch.nn.Module):\n",
    "    def __init__(self, input_dim, output_dim):\n",
    "        super(Perceptron, self).__init__()\n",
    "        self.linear = torch.nn.Linear(input_dim, output_dim)\n",
    "        self.activation = torch.nn.Sigmoid()\n",
    "        \n",
    "    def forward(self, x):\n",
    "        x = self.linear(x)\n",
    "        x = self.activation(x)\n",
    "        return x\n"
   ]
  },
  {
   "cell_type": "markdown",
   "id": "a178820e",
   "metadata": {},
   "source": [
    " We create an instance of this model and use it to make predictions like this:"
   ]
  },
  {
   "cell_type": "code",
   "execution_count": 9,
   "id": "78513e21",
   "metadata": {},
   "outputs": [
    {
     "name": "stdout",
     "output_type": "stream",
     "text": [
      "tensor([0.6486], grad_fn=<SigmoidBackward0>)\n"
     ]
    }
   ],
   "source": [
    "perceptron = Perceptron(input_size, output_size)\n",
    "x = torch.tensor([0.5, 0.2])\n",
    "y = perceptron(x)\n",
    "print(y)\n"
   ]
  },
  {
   "cell_type": "code",
   "execution_count": 12,
   "id": "54070b51",
   "metadata": {},
   "outputs": [
    {
     "name": "stdout",
     "output_type": "stream",
     "text": [
      "Epoch [100/1000], Loss: 0.5410\n",
      "Epoch [200/1000], Loss: 0.4780\n",
      "Epoch [300/1000], Loss: 0.4574\n",
      "Epoch [400/1000], Loss: 0.4476\n",
      "Epoch [500/1000], Loss: 0.4419\n",
      "Epoch [600/1000], Loss: 0.4383\n",
      "Epoch [700/1000], Loss: 0.4358\n",
      "Epoch [800/1000], Loss: 0.4339\n",
      "Epoch [900/1000], Loss: 0.4325\n",
      "Epoch [1000/1000], Loss: 0.4314\n"
     ]
    }
   ],
   "source": [
    "\n",
    "# Define the loss function and optimizer\n",
    "criterion = nn.BCELoss()  # Binary cross-entropy loss\n",
    "optimizer = torch.optim.SGD(perceptron.parameters(), lr=0.1)  # Stochastic gradient descent optimizer\n",
    "\n",
    "# Generate some random input data and labels\n",
    "input_data = torch.randn((10, input_size))\n",
    "labels = torch.randint(0, 2, (10, output_size)).float()\n",
    "\n",
    "# Train the model\n",
    "num_epochs = 1000\n",
    "for epoch in range(num_epochs):\n",
    "    # Forward pass\n",
    "    outputs = perceptron(input_data)\n",
    "    loss = criterion(outputs, labels)\n",
    "\n",
    "    # Backward pass and optimization\n",
    "    optimizer.zero_grad()\n",
    "    loss.backward()\n",
    "    optimizer.step()\n",
    "\n",
    "    # Print the loss every 100 epochs\n",
    "    if (epoch + 1) % 100 == 0:\n",
    "        print(f'Epoch [{epoch+1}/{num_epochs}], Loss: {loss.item():.4f}')"
   ]
  },
  {
   "cell_type": "markdown",
   "id": "75b840f4",
   "metadata": {},
   "source": [
    "Exercise 9: \n",
    "\n",
    "Implement a binary classification model using the Perceptron class in PyTorch for the logic OR. \n",
    "\n",
    "Your task is to create a Perceptron instance and train it using a proper  dataset and the binary cross-entropy loss with stochastic gradient descent optimizer. \n",
    "\n",
    "Here are the steps you can follow:\n",
    "\n",
    "Define a Perceptron class that inherits from torch.nn.Module and implements a binary classification model.\n",
    "\n",
    "Define a binary cross-entropy loss function using the torch.nn.BCEWithLogitsLoss module.\n",
    "\n",
    "Define a stochastic gradient descent optimizer using the torch.optim.SGD module.\n",
    "\n",
    "Train the Perceptron model on the training set using the binary cross-entropy loss and stochastic gradient descent optimizer.\n",
    "\n",
    "Evaluate the trained model compute the accuracy.\n"
   ]
  },
  {
   "cell_type": "code",
   "execution_count": 11,
   "id": "dc3c5d3e",
   "metadata": {},
   "outputs": [
    {
     "name": "stdout",
     "output_type": "stream",
     "text": [
      "[0/10000], Loss: 0.7446\n"
     ]
    }
   ],
   "source": [
    "#steps:\n",
    "#Define a Perceptron class that inherits from torch.nn.Module and implements a binary classification model.\n",
    "\n",
    "import torch\n",
    "import torch.nn as nn\n",
    "import numpy as np\n",
    "from sklearn.metrics import accuracy_score \n",
    "\n",
    "input_size = 2\n",
    "output_size = 2\n",
    "\n",
    "# Define a Perceptron class that inherits from torch.nn.Module and implements a binary classification model.\n",
    "class Perceptron(torch.nn.Module):\n",
    "    def __init__(self, input_dim, output_dim):\n",
    "        super(Perceptron, self).__init__()\n",
    "        self.linear = torch.nn.Linear(input_dim, output_dim)\n",
    "        #self.activation = torch.nn.Sigmoid()\n",
    "        \n",
    "    def forward(self, x):\n",
    "        x = self.linear(x)\n",
    "        #x = self.activation(x)\n",
    "        return x\n",
    "\n",
    "perceptron = Perceptron(input_size, output_size)\n",
    "#Define a binary cross-entropy loss function using the torch.nn.BCEWithLogitsLoss module.\n",
    "criterion = nn.BCEWithLogitsLoss()\n",
    "\n",
    "#Define a stochastic gradient descent optimizer using the torch.optim.SGD module.\n",
    "optimizer = torch.optim.SGD(perceptron.parameters(), lr=0.1)\n",
    "\n",
    "\n",
    "#Train the Perceptron model on the training set using the binary cross-entropy \n",
    "# loss and stochastic gradient descent optimizer.\n",
    "\n",
    "input_data = [[0,0],[0,1],[1,0],[1,1]]\n",
    "output_data = [[1,0],[0,1],[0,1],[0,1]]\n",
    "\n",
    "#train the model\n",
    "number = 10000\n",
    "for index in range(number):\n",
    "    output_gen = perceptron(torch.Tensor(input_data))\n",
    "    loss = criterion(output_gen, torch.Tensor(output_data))\n",
    "    \n",
    "    optimizer.zero_grad()\n",
    "    loss.backward()\n",
    "    optimizer.step()\n",
    "    \n",
    "    if index % 10000 == 0:\n",
    "        print(f'[{index}/{number}], Loss: {loss.item():.4f}')"
   ]
  },
  {
   "cell_type": "code",
   "execution_count": 12,
   "id": "0bbe74c6",
   "metadata": {},
   "outputs": [
    {
     "name": "stdout",
     "output_type": "stream",
     "text": [
      "tensor([0.8079, 0.0926], grad_fn=<SigmoidBackward0>)\n",
      "tensor([0.0382, 0.9334], grad_fn=<SigmoidBackward0>)\n",
      "tensor([0.0369, 0.9349], grad_fn=<SigmoidBackward0>)\n",
      "tensor([3.6128e-04, 9.9949e-01], grad_fn=<SigmoidBackward0>)\n"
     ]
    }
   ],
   "source": [
    "#prediction\n",
    "predict0 = perceptron(torch.Tensor([0,0]))\n",
    "print(predict0)\n",
    "\n",
    "predict1 = perceptron(torch.Tensor([1,0]))\n",
    "print(predict1)\n",
    "\n",
    "predict2 = perceptron(torch.Tensor([0,1]))\n",
    "print(predict2)\n",
    "\n",
    "predict3 = perceptron(torch.Tensor([1,1]))\n",
    "print(predict3)"
   ]
  },
  {
   "cell_type": "code",
   "execution_count": 20,
   "id": "8408a02a",
   "metadata": {},
   "outputs": [
    {
     "name": "stdout",
     "output_type": "stream",
     "text": [
      "Accuracy: 0.25\n"
     ]
    }
   ],
   "source": [
    "#accuracy:\n",
    "index0 = 0 if predict0[0]>predict0[1] else 1\n",
    "index1 = 0 if predict1[0]>predict1[1] else 1\n",
    "index2 = 0 if predict2[0]>predict2[1] else 1\n",
    "index3 = 0 if predict3[0]>predict3[1] else 1\n",
    "\n",
    "total = (index0 == 0) + (index1 == 1) + (index2 == 1) + (index3 == 1)\n",
    "print(\"Accuracy: {:.2f}\".format(total/4))\n",
    "\n",
    "\n"
   ]
  },
  {
   "cell_type": "code",
   "execution_count": 14,
   "id": "98a6fa9d",
   "metadata": {},
   "outputs": [
    {
     "name": "stdout",
     "output_type": "stream",
     "text": [
      "tensor([0.9839, 0.0051], grad_fn=<SigmoidBackward0>)\n",
      "tensor([3.4472e-03, 2.3100e-07], grad_fn=<SigmoidBackward0>)\n",
      "tensor([0.0034, 0.9872], grad_fn=<SigmoidBackward0>)\n",
      "tensor([1.9581e-07, 3.4347e-03], grad_fn=<SigmoidBackward0>)\n",
      "Accuracy: 0.50\n"
     ]
    }
   ],
   "source": [
    "#trying the same thing with xor\n",
    "import torch\n",
    "import torch.nn as nn\n",
    "import numpy as np\n",
    "from sklearn.metrics import accuracy_score \n",
    "\n",
    "input_size = 2\n",
    "output_size = 2\n",
    "\n",
    "# Define a Perceptron class that inherits from torch.nn.Module and implements a binary classification model.\n",
    "class Perceptron(torch.nn.Module):\n",
    "    def __init__(self, input_dim, output_dim):\n",
    "        super(Perceptron, self).__init__()\n",
    "        self.linear = torch.nn.Linear(input_dim, output_dim)\n",
    "        self.activation = torch.nn.Sigmoid()\n",
    "        \n",
    "    def forward(self, x):\n",
    "        x = self.linear(x)\n",
    "        x = self.activation(x)\n",
    "        return x\n",
    "\n",
    "perceptron = Perceptron(input_size, output_size)\n",
    "#Define a binary cross-entropy loss function using the torch.nn.BCEWithLogitsLoss module.\n",
    "criterion = nn.BCEWithLogitsLoss()\n",
    "\n",
    "#Define a stochastic gradient descent optimizer using the torch.optim.SGD module.\n",
    "optimizer = torch.optim.SGD(perceptron.parameters(), lr=0.1)\n",
    "\n",
    "\n",
    "#Train the Perceptron model on the training set using the binary cross-entropy \n",
    "# loss and stochastic gradient descent optimizer.\n",
    "\n",
    "input_data = [[0,0],[0,1],[1,0],[1,1]]\n",
    "output_data = [[1,0],[0,1],[0,1],[1,0]]\n",
    "\n",
    "#train the model\n",
    "number = 100000\n",
    "for index in range(number):\n",
    "    output_gen = perceptron(torch.Tensor(input_data))\n",
    "    loss = criterion(output_gen, torch.Tensor(output_data))\n",
    "    \n",
    "    optimizer.zero_grad()\n",
    "    loss.backward()\n",
    "    optimizer.step()\n",
    "    \n",
    "#     if index % 1000 == 0:\n",
    "#         print(f'[{index}/{number}], Loss: {loss.item():.4f}')\n",
    "    \n",
    "#prediction\n",
    "predict0 = perceptron(torch.Tensor([0,0]))\n",
    "print(predict0)\n",
    "\n",
    "predict1 = perceptron(torch.Tensor([1,0]))\n",
    "print(predict1)\n",
    "\n",
    "predict2 = perceptron(torch.Tensor([0,1]))\n",
    "print(predict2)\n",
    "\n",
    "predict3 = perceptron(torch.Tensor([1,1]))\n",
    "print(predict3)\n",
    "\n",
    "\n",
    "#accuracy:\n",
    "index0 = 0 if predict0[0]>predict0[1] else 1\n",
    "index1 = 0 if predict1[0]>predict1[1] else 1\n",
    "index2 = 0 if predict2[0]>predict2[1] else 1\n",
    "index3 = 0 if predict3[0]>predict3[1] else 1\n",
    "\n",
    "total = (index0 == 0) + (index1 == 1) + (index2 == 1) + (index3 == 0)\n",
    "print(\"Accuracy: {:.2f}\".format(total/4))"
   ]
  },
  {
   "cell_type": "code",
   "execution_count": 15,
   "id": "eea17cef",
   "metadata": {},
   "outputs": [
    {
     "name": "stdout",
     "output_type": "stream",
     "text": [
      "tensor([0.7042, 0.0881], grad_fn=<SigmoidBackward0>)\n",
      "tensor([0.3964, 0.1009], grad_fn=<SigmoidBackward0>)\n",
      "tensor([0.6852, 0.0626], grad_fn=<SigmoidBackward0>)\n",
      "tensor([0.3752, 0.0720], grad_fn=<SigmoidBackward0>)\n",
      "Accuracy: 0.75\n"
     ]
    }
   ],
   "source": [
    "#trying it with AND\n",
    "\n",
    "import torch\n",
    "import torch.nn as nn\n",
    "import numpy as np\n",
    "from sklearn.metrics import accuracy_score \n",
    "\n",
    "input_size = 2\n",
    "output_size = 2\n",
    "\n",
    "# Define a Perceptron class that inherits from torch.nn.Module and implements a binary classification model.\n",
    "class Perceptron(torch.nn.Module):\n",
    "    def __init__(self, input_dim, output_dim):\n",
    "        super(Perceptron, self).__init__()\n",
    "        self.linear = torch.nn.Linear(input_dim, output_dim)\n",
    "        self.activation = torch.nn.Sigmoid()\n",
    "        \n",
    "    def forward(self, x):\n",
    "        x = self.linear(x)\n",
    "        x = self.activation(x)\n",
    "        return x\n",
    "\n",
    "perceptron = Perceptron(input_size, output_size)\n",
    "#Define a binary cross-entropy loss function using the torch.nn.BCEWithLogitsLoss module.\n",
    "criterion = nn.BCEWithLogitsLoss()\n",
    "\n",
    "#Define a stochastic gradient descent optimizer using the torch.optim.SGD module.\n",
    "optimizer = torch.optim.SGD(perceptron.parameters(), lr=0.1)\n",
    "\n",
    "\n",
    "#Train the Perceptron model on the training set using the binary cross-entropy \n",
    "# loss and stochastic gradient descent optimizer.\n",
    "\n",
    "input_data = [[0,0],[0,1],[1,0],[1,1]]\n",
    "output_data = [[1,0],[1,0],[1,0],[0,1]]\n",
    "\n",
    "#train the model\n",
    "number = 1000\n",
    "for index in range(number):\n",
    "    output_gen = perceptron(torch.Tensor(input_data))\n",
    "    loss = criterion(output_gen, torch.Tensor(output_data))\n",
    "    \n",
    "    optimizer.zero_grad()\n",
    "    loss.backward()\n",
    "    optimizer.step()\n",
    "    \n",
    "#     if index % 1000 == 0:\n",
    "#         print(f'[{index}/{number}], Loss: {loss.item():.4f}')\n",
    "    \n",
    "#prediction\n",
    "predict0 = perceptron(torch.Tensor([0,0]))\n",
    "print(predict0)\n",
    "\n",
    "predict1 = perceptron(torch.Tensor([1,0]))\n",
    "print(predict1)\n",
    "\n",
    "predict2 = perceptron(torch.Tensor([0,1]))\n",
    "print(predict2)\n",
    "\n",
    "predict3 = perceptron(torch.Tensor([1,1]))\n",
    "print(predict3)\n",
    "\n",
    "\n",
    "#accuracy:\n",
    "index0 = 0 if predict0[0]>predict0[1] else 1\n",
    "index1 = 0 if predict1[0]>predict1[1] else 1\n",
    "index2 = 0 if predict2[0]>predict2[1] else 1\n",
    "index3 = 0 if predict3[0]>predict3[1] else 1\n",
    "\n",
    "total = (index0 == 0) + (index1 == 0) + (index2 == 0) + (index3 == 1)\n",
    "print(\"Accuracy: {:.2f}\".format(total/4))"
   ]
  },
  {
   "cell_type": "code",
   "execution_count": null,
   "id": "89a9624c",
   "metadata": {},
   "outputs": [],
   "source": []
  }
 ],
 "metadata": {
  "kernelspec": {
   "display_name": "Python 3 (ipykernel)",
   "language": "python",
   "name": "python3"
  },
  "language_info": {
   "codemirror_mode": {
    "name": "ipython",
    "version": 3
   },
   "file_extension": ".py",
   "mimetype": "text/x-python",
   "name": "python",
   "nbconvert_exporter": "python",
   "pygments_lexer": "ipython3",
   "version": "3.9.16"
  }
 },
 "nbformat": 4,
 "nbformat_minor": 5
}
